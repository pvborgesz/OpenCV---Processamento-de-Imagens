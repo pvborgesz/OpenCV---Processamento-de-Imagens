{
 "cells": [
  {
   "cell_type": "code",
   "execution_count": 130,
   "metadata": {},
   "outputs": [],
   "source": [
    "import numpy as np\n",
    "import matplotlib.pyplot as plt\n",
    "import cv2 as cv "
   ]
  },
  {
   "cell_type": "code",
   "execution_count": 131,
   "metadata": {},
   "outputs": [],
   "source": [
    "img = cv.imread('images/dw.jpg', 0) #Lendo imagem\n",
    "\n",
    "\n",
    "# plt.subplot(121),plt.imshow(thinned),plt.title('Original')\n",
    "# plt.xticks([]), plt.yticks([])\n",
    "# plt.show()"
   ]
  },
  {
   "cell_type": "code",
   "execution_count": 132,
   "metadata": {},
   "outputs": [],
   "source": [
    "size = np.size(img)\n",
    "skel = np.zeros(img.shape,np.uint8)\n",
    " \n",
    "ret,img = cv.threshold(img,127,255,0)\n",
    "element = cv.getStructuringElement(cv.MORPH_CROSS,(3,3))\n",
    "done = False"
   ]
  },
  {
   "cell_type": "code",
   "execution_count": 133,
   "metadata": {},
   "outputs": [],
   "source": [
    "while( not done):\n",
    "    eroded = cv.erode(img,element)\n",
    "    temp = cv.dilate(eroded,element)\n",
    "    temp = cv.subtract(img,temp)\n",
    "    skel = cv.bitwise_or(skel,temp)\n",
    "    img = eroded.copy()\n",
    " \n",
    "    zeros = size - cv.countNonZero(img)\n",
    "    if zeros==size:\n",
    "        done = True\n",
    " \n",
    "cv.imshow(\"skel\",skel)\n",
    "cv.waitKey(0)\n",
    "cv.destroyAllWindows()\n",
    "\n",
    "# plt.subplot(121),plt.imshow(skel),plt.title('Após bitwise or')\n",
    "# plt.xticks([]), plt.yticks([])"
   ]
  }
 ],
 "metadata": {
  "kernelspec": {
   "display_name": "Python 3.9.4 64-bit",
   "language": "python",
   "name": "python3"
  },
  "language_info": {
   "codemirror_mode": {
    "name": "ipython",
    "version": 3
   },
   "file_extension": ".py",
   "mimetype": "text/x-python",
   "name": "python",
   "nbconvert_exporter": "python",
   "pygments_lexer": "ipython3",
   "version": "3.9.4"
  },
  "orig_nbformat": 4,
  "vscode": {
   "interpreter": {
    "hash": "81794d4967e6c3204c66dcd87b604927b115b27c00565d3d43f05ba2f3a2cb0d"
   }
  }
 },
 "nbformat": 4,
 "nbformat_minor": 2
}
